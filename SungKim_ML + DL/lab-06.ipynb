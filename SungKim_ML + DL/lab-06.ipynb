{
 "cells": [
  {
   "cell_type": "markdown",
   "metadata": {},
   "source": [
    "## softmax function\n",
    "## 여러개의 클래스가 있을 때 예측할 때"
   ]
  },
  {
   "cell_type": "code",
   "execution_count": 2,
   "metadata": {},
   "outputs": [],
   "source": [
    "import tensorflow as tf\n",
    "import pandas as pd\n",
    "import numpy as np\n",
    "import matplotlib.pyplot as plt"
   ]
  },
  {
   "cell_type": "code",
   "execution_count": 3,
   "metadata": {},
   "outputs": [],
   "source": [
    "x_data = [[1, 2, 1, 1], [2, 1, 3, 2], [3, 1, 3, 4], [4, 1, 5, 5], \n",
    "          [1, 7, 5, 5], [1, 2, 5, 6], [1, 6, 6, 6], [1, 7, 7, 7]]\n",
    "### one_hot_encoding\n",
    "y_data = [[0, 0, 1], [0, 0, 1], [0, 0, 1], [0, 1, 0],\n",
    "          [0, 1, 0], [0, 1, 0], [1, 0, 0], [1, 0, 0]]"
   ]
  },
  {
   "cell_type": "code",
   "execution_count": 4,
   "metadata": {},
   "outputs": [],
   "source": [
    "X = tf.placeholder(\"float\", [None, 4])\n",
    "Y = tf.placeholder(\"float\", [None, 3])\n",
    "nb_classes = 3"
   ]
  },
  {
   "cell_type": "markdown",
   "metadata": {},
   "source": [
    "### Shape 주의"
   ]
  },
  {
   "cell_type": "code",
   "execution_count": 5,
   "metadata": {},
   "outputs": [],
   "source": [
    "W = tf.Variable(tf.random_normal([4, nb_classes]), name = \"Weight\")\n",
    "b = tf.Variable(tf.random_normal([nb_classes]), name = \"bias\")"
   ]
  },
  {
   "cell_type": "code",
   "execution_count": 6,
   "metadata": {},
   "outputs": [],
   "source": [
    "hypothesis = tf.nn.softmax(tf.matmul(X, W) + b)"
   ]
  },
  {
   "cell_type": "code",
   "execution_count": 7,
   "metadata": {},
   "outputs": [],
   "source": [
    "cost = tf.reduce_mean(-tf.reduce_sum(Y * tf.log(hypothesis), axis = 1))\n",
    "optimizer = tf.train.GradientDescentOptimizer(learning_rate=0.1).minimize(cost)"
   ]
  },
  {
   "cell_type": "code",
   "execution_count": 26,
   "metadata": {},
   "outputs": [
    {
     "name": "stdout",
     "output_type": "stream",
     "text": [
      "3.1662304\n",
      "0.6091089\n",
      "0.50531197\n",
      "0.4131853\n",
      "0.32260874\n",
      "0.24201001\n",
      "0.21655223\n",
      "0.19758326\n",
      "0.18156421\n",
      "0.16786462\n",
      "0.15602285\n",
      "[[4.7972747e-03 9.9519181e-01 1.0877244e-05]] [1]\n",
      "--------------\n",
      "[[4.7972747e-03 9.9519181e-01 1.0877244e-05]\n",
      " [8.6287361e-01 1.1935806e-01 1.7768307e-02]\n",
      " [1.5861557e-08 3.5815121e-04 9.9964178e-01]] [1 0 2]\n"
     ]
    },
    {
     "data": {
      "image/png": "[encoded data removed]",
      "text/plain": [
       "<Figure size 432x288 with 1 Axes>"
      ]
     },
     "metadata": {
      "needs_background": "light"
     },
     "output_type": "display_data"
    }
   ],
   "source": [
    "# For graph\n",
    "steps = []\n",
    "cost_val = []\n",
    "\n",
    "with tf.Session() as sess:\n",
    "    sess.run(tf.global_variables_initializer())\n",
    "    \n",
    "    for step in range(2001):\n",
    "        sess.run(optimizer, feed_dict={X: x_data, Y: y_data})\n",
    "        if step % 200 == 0:\n",
    "            steps.append(step)\n",
    "            cost_v = sess.run(cost, feed_dict = {X: x_data, Y: y_data})\n",
    "            cost_val.append(cost_v)\n",
    "            print(cost_v)\n",
    "#         if step % 200 == 0:\n",
    "#             print(step, sess.run(cost, feed_dict = {X: x_data, Y: y_data}))\n",
    "#             print(cost)\n",
    "            #         W_val.append(x_data)\n",
    "#         cost_val.append(y_data)\n",
    "    # arg_max는 최강자를 찾는거 인덱스를 반환\n",
    "    a = sess.run(hypothesis, feed_dict={X: [[1, 11, 7, 9]]})\n",
    "    print(a, sess.run(tf.arg_max(a, 1)))\n",
    "    \n",
    "    print('--------------')\n",
    "    all = sess.run(hypothesis, feed_dict={\n",
    "                   X: [[1, 11, 7, 9], [1, 3, 4, 3], [1, 1, 0, 1]]})\n",
    "    print(all, sess.run(tf.argmax(all, 1)))\n",
    "    \n",
    "    # 과제 1 cost의 감소 그래프로 확인하기\n",
    "    # Graphic display\n",
    "    plt.plot(steps, cost_val, 'r-')\n",
    "    plt.ylabel('Cost')\n",
    "    plt.xlabel('steps')\n",
    "    plt.show()\n",
    "    \n",
    "    # 과제 2 learning rate 변화시켜서 그래프 각각 확인\n",
    "    \n",
    "    # 통통튀는거(발산)랑 충분히 감소하지 않을경우 2가지\n",
    "    # 만번 ~ 2만번\n",
    "    "
   ]
  },
  {
   "cell_type": "code",
   "execution_count": null,
   "metadata": {},
   "outputs": [],
   "source": []
  },
  {
   "cell_type": "code",
   "execution_count": null,
   "metadata": {},
   "outputs": [],
   "source": []
  }
 ],
 "metadata": {
  "kernelspec": {
   "display_name": "Python 3",
   "language": "python",
   "name": "python3"
  },
  "language_info": {
   "codemirror_mode": {
    "name": "ipython",
    "version": 3
   },
   "file_extension": ".py",
   "mimetype": "text/x-python",
   "name": "python",
   "nbconvert_exporter": "python",
   "pygments_lexer": "ipython3",
   "version": "3.6.6"
  }
 },
 "nbformat": 4,
 "nbformat_minor": 2
}

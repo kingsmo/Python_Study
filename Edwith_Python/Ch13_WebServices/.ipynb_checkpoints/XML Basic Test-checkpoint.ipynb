{
 "cells": [
  {
   "cell_type": "markdown",
   "metadata": {},
   "source": [
    "## XML Test\n",
    "## 20180726\n",
    "## Sungjae Lee"
   ]
  },
  {
   "cell_type": "code",
   "execution_count": 7,
   "metadata": {},
   "outputs": [],
   "source": [
    "import xml.etree.ElementTree as ET"
   ]
  },
  {
   "cell_type": "code",
   "execution_count": 10,
   "metadata": {},
   "outputs": [],
   "source": [
    "input = '''\n",
    "<stuff>\n",
    "    <users>\n",
    "        <user x=\"2\">\n",
    "            <id>001</id>\n",
    "            <name>Chuck</name>\n",
    "        </user>\n",
    "        <user x=\"7\">\n",
    "            <id>009</id>\n",
    "            <name>Brent</name>\n",
    "        </user>\n",
    "    </users>\n",
    "</stuff>'''"
   ]
  },
  {
   "cell_type": "code",
   "execution_count": 12,
   "metadata": {},
   "outputs": [],
   "source": [
    "stuff = ET.fromstring(input)\n",
    "# 띄어쓰기 등에 매우 엄격한 것 같다. 아주 정확하게 데이터를 작성해야 작동한다.\n",
    "# input 스트링 데이터를 xml 로 변환하여 stuff 변수에 저장한다."
   ]
  },
  {
   "cell_type": "code",
   "execution_count": 14,
   "metadata": {},
   "outputs": [
    {
     "name": "stdout",
     "output_type": "stream",
     "text": [
      "User count:  2\n",
      "[<Element 'user' at 0x1038c1408>, <Element 'user' at 0x1038c14a8>]\n"
     ]
    }
   ],
   "source": [
    "lst = stuff.findall('users/user')\n",
    "print('User count: ', len(lst))\n",
    "print(lst)\n",
    "# users 태그 내부의 user 태그를 stuff에서 모두 찾아 lst 에 저장한다.\n",
    "# 찾아낸 user 태그들에 대한 개수를 출력한다.\n",
    "# lst 만 출력해 보았는데, xml 의 주소만 출력하는 것으로 보아 실제 데이터가 저장되진 않는 듯 하다."
   ]
  },
  {
   "cell_type": "code",
   "execution_count": 17,
   "metadata": {},
   "outputs": [
    {
     "name": "stdout",
     "output_type": "stream",
     "text": [
      "Name Chuck\n",
      "Id 001\n",
      "Attribute 2\n",
      "\n",
      "Name Brent\n",
      "Id 009\n",
      "Attribute 7\n",
      "\n"
     ]
    }
   ],
   "source": [
    "for item in lst:\n",
    "    print('Name', item.find('name').text)\n",
    "    print('Id', item.find('id').text)\n",
    "    print('Attribute', item.get('x'))\n",
    "    print()\n",
    "# 앞에서 저장한 user 노드에 대해, name 태그의 컨텐츠, id 태그의 컨텐츠,\n",
    "# 그리고 x 어트리뷰트의 value 를 가져와 순차적으로 출력한다."
   ]
  }
 ],
 "metadata": {
  "kernelspec": {
   "display_name": "Python 3",
   "language": "python",
   "name": "python3"
  },
  "language_info": {
   "codemirror_mode": {
    "name": "ipython",
    "version": 3
   },
   "file_extension": ".py",
   "mimetype": "text/x-python",
   "name": "python",
   "nbconvert_exporter": "python",
   "pygments_lexer": "ipython3",
   "version": "3.6.5"
  }
 },
 "nbformat": 4,
 "nbformat_minor": 2
}

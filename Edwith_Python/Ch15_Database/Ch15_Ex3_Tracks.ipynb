{
 "cells": [
  {
   "cell_type": "markdown",
   "metadata": {},
   "source": [
    "## Ch15 Ex3 Tracks"
   ]
  },
  {
   "cell_type": "code",
   "execution_count": 1,
   "metadata": {},
   "outputs": [],
   "source": [
    "import sqlite3\n",
    "import xml.etree.ElementTree as ET"
   ]
  },
  {
   "cell_type": "code",
   "execution_count": 2,
   "metadata": {},
   "outputs": [],
   "source": [
    "conn = sqlite3.connect('trackdb.sqlite')\n",
    "cur = conn.cursor()"
   ]
  },
  {
   "cell_type": "code",
   "execution_count": 3,
   "metadata": {},
   "outputs": [
    {
     "data": {
      "text/plain": [
       "<sqlite3.Cursor at 0x104edcc00>"
      ]
     },
     "execution_count": 3,
     "metadata": {},
     "output_type": "execute_result"
    }
   ],
   "source": [
    "cur.executescript('''\n",
    "DROP TABLE IF EXISTS Artist;\n",
    "DROP TABLE IF EXISTS Album;\n",
    "DROP TABLE IF EXISTS Track;\n",
    "\n",
    "CREATE TABLE Artist (\n",
    "    id  INTEGER NOT NULL PRIMARY KEY AUTOINCREMENT UNIQUE,\n",
    "    name    TEXT UNIQUE\n",
    ");\n",
    "\n",
    "CREATE TABLE Album (\n",
    "    id  INTEGER NOT NULL PRIMARY KEY AUTOINCREMENT UNIQUE,\n",
    "    artist_id  INTEGER,\n",
    "    title   TEXT UNIQUE\n",
    ");\n",
    "\n",
    "CREATE TABLE Track (\n",
    "    id  INTEGER NOT NULL PRIMARY KEY \n",
    "        AUTOINCREMENT UNIQUE,\n",
    "    title TEXT  UNIQUE,\n",
    "    album_id  INTEGER,\n",
    "    len INTEGER, rating INTEGER, count INTEGER\n",
    ");\n",
    "''')"
   ]
  },
  {
   "cell_type": "code",
   "execution_count": 4,
   "metadata": {},
   "outputs": [
    {
     "name": "stdout",
     "output_type": "stream",
     "text": [
      "Enter file name: mymusic.xml\n"
     ]
    }
   ],
   "source": [
    "fname = input('Enter file name: ')\n",
    "if ( len(fname) < 1 ) : fname = 'Library.xml'"
   ]
  },
  {
   "cell_type": "code",
   "execution_count": 5,
   "metadata": {},
   "outputs": [],
   "source": [
    "def lookup(d, key):\n",
    "    found = False\n",
    "    for child in d:\n",
    "        if found : return child.text\n",
    "        if child.tag == 'key' and child.text == key :\n",
    "            found = True\n",
    "    return None"
   ]
  },
  {
   "cell_type": "code",
   "execution_count": 6,
   "metadata": {},
   "outputs": [
    {
     "name": "stdout",
     "output_type": "stream",
     "text": [
      "Dict count: 92\n"
     ]
    }
   ],
   "source": [
    "stuff = ET.parse(fname)\n",
    "all = stuff.findall('dict/dict/dict')\n",
    "print('Dict count:', len(all))"
   ]
  },
  {
   "cell_type": "code",
   "execution_count": 8,
   "metadata": {
    "scrolled": true
   },
   "outputs": [
    {
     "name": "stdout",
     "output_type": "stream",
     "text": [
      "폰서트 10cm 4.0 6 None 197504\n",
      "Stalker 10cm 3.0 3 None 252801\n",
      "사랑은 은하수 다방에서 10cm 1.0 7 None 172760\n",
      "Pet 10cm 4.0 8 None 190592\n",
      "Sseudam Sseudam (Caress) 10cm 3.0 5 None 241078\n",
      "Fine Thank You and You 10cm 2.0 6 None 220600\n",
      "Help 10cm Help - Single 2 None 289990\n",
      "니가 참 좋아 10cm 니가 참 좋아 - Single 11 None 200042\n",
      "Undercover Lovers 10cm 3.1 - Single 4 None 239044\n",
      "마네퀸 (feat. Beenzino & 수란) 프라이머리 2 6 None 233376\n",
      "러버 (feat. 오혁) 프라이머리 2 7 None 207688\n",
      "마일리지 (feat. 팔로알토 & 화사) 프라이머리 2 4 None 225801\n",
      "그녀는 (feat. Jung In, CHOIZA, Hangzoo & Geegooin) 프라이머리 2 2 None 265664\n",
      "골드핑거 (feat. 수란) 프라이머리 2 4 None 220541\n",
      "Way Back Home SHAUN Take - EP 14 None 214137\n",
      "OSAKA (feat. ZICO) [From GRADATION, Vol. 4] 엘로 OSAKA (feat. ZICO) [From GRADATION, Vol. 4] - Single 8 None 205160\n",
      "Cereal (feat. ZICO) Crush wonderlost - EP 8 None 218097\n",
      "사랑이었다 (feat. 루나) ZICO Break Up 2 Make Up - Single 3 None 269907\n",
      "오만과 편견 (feat. 수란) ZICO Gallery - Single 6 None 208359\n",
      "Donut (Feat. 박재범) pH-1 The Island Kid - EP 5 None 211481\n",
      "Penthouse (feat. Sik-K) [with APRO] pH-1 Gatsby - Single 5 None 230237\n",
      "Perfect pH-1 Perfect - Single 5 None 198375\n",
      "L.I.E (Prod. ZICO) PENOMECO L.I.E (Prod. ZICO) - Single 2 None 206039\n",
      "Good Morning (feat. Car, the garden) PENOMECO Good Morning (feat. Car, the garden) - Single 6 None 177459\n",
      "붕붕 (feat. Sik-K) [Prod. GroovyRoom] 김하온 고등래퍼2 Final 4 None 234352\n",
      "gold (feat. Dean) offonoff Boy. 2 None 236053\n",
      "PARACHUTE (feat. 오혁 & Dok2) 코드쿤스트 PARACHUTE (feat. 오혁 & Dok2) - Single 4 None 273839\n",
      "X (feat. 이하이) 코드쿤스트 Muggles' Mansion 4 None 311677\n",
      "향수 (feat. 넉살) 코드쿤스트 Muggles' Mansion 2 None 203645\n",
      "공드리 (feat. 김예림) 프라이머리 & 오혁 Lucky You! - EP 7 None 243406\n",
      "Bawling 프라이머리 & 오혁 Lucky You! - EP 2 None 243175\n",
      "소녀 오혁 응답하라 1988 (Original Television Soundtrack) 3 None 226275\n",
      "Love Ya! 혁오 24 : How To Find True Love and Happiness - EP 2 None 251965\n",
      "위잉위잉 혁오 20 - EP 1 None 193605\n",
      "잊을만하면 Crush 잊을만하면 - Single 4 None 237411\n",
      "잊어버리지마 (feat. 태연) Crush 잊어버리지마 (feat. 태연) - Single 2 None 219107\n",
      "꺼내 먹어요 Zion.T 꺼내 먹어요 - Single 3 None 161618\n",
      "돌아오지마 (Feat. 용준형) 헤이즈 돌아오지마 - Single 2 None 217040\n",
      "And July (feat. DEAN & DJ Friz) 헤이즈 And July - EP 5 None 226128\n",
      "처음부터 너와 나 볼빨간사춘기 군주 - 가면의 주인, Pt. 2 (Original Television Soundtrack) - Single 5 None 204130\n",
      "가리워진 길 볼빨간사춘기 미생 (Original Television Soundtrack), Pt. 4 - Single 4 None 262827\n",
      "DINOSAUR 악동뮤지션 SUMMER EPISODE - EP 3 None 240572\n",
      "라면인건가 악동뮤지션 SBS K팝 스타 시즌2 Top 10 - 1회 - EP 5 None 190473\n",
      "한숨 이하이 SEOULITE - EP 3 None 288915\n",
      "Happier Ed Sheeran ÷ (Deluxe) 14 None 207520\n",
      "Perfect Ed Sheeran ÷ (Deluxe) 4 None 263400\n",
      "Thinking Out Loud Ed Sheeran x (Wembley Edition) 3 None 281560\n",
      "Too Good at Goodbyes Sam Smith The Thrill of It All 2 None 201000\n",
      "Lay Me Down Sam Smith In the Lonely Hour (Drowning Shadows Edition) 2 None 253208\n",
      "Stay With Me Sam Smith In the Lonely Hour (Drowning Shadows Edition) 3 None 172724\n",
      "Back to You Selena Gomez 13 Reasons Why: Season 2 (Music from the Original TV Series) 6 None 210240\n",
      "Bad Liar Selena Gomez Bad Liar - Single 5 None 214648\n",
      "It Ain't Me Kygo & Selena Gomez It Ain't Me - Single 6 None 220781\n",
      "Madeleine Love 치즈 Plain 2 None 218571\n",
      "퇴근시간 치즈 Plain 3 None 397326\n",
      "How Do You Think 치즈 Q - EP 3 None 205693\n",
      "Bye Bye My Blue 백예린 Bye Bye My Blue - Single 5 None 203413\n",
      "우주를 건너 Across the Universe 백예린 FRANK - EP 4 None 247173\n",
      "넘어와 (feat. 백예린) DEAN Limbo - Single 3 None 266137\n",
      "Run (with GRAY) 이진아 진아식당 Full Course 2 None 226840\n",
      "party (Shut Down) [feat. 크러쉬] Sik-K H.A.L.F (Have.A.Little.Fun) 4 None 216114\n",
      "바코드 (Prod. GroovyRoom) 김하온 & Vinxen 고등래퍼2 팀대항전, Pt. 3 - EP 5 None 222898\n",
      "탓 (Prod. BOYCOLD) Vinxen 고등래퍼 2 Semifinal 3 None 209290\n",
      "향수 (with WOOGIE) 우원재 슬기로운 감빵생활 (Original Television Soundtrack), Pt. 6 1 None 201656\n",
      "Rain 김예림 Her Voice None None 230693\n",
      "내 입술 따뜻한 커피처럼 (feat. 이성경) 에디킴 내 입술 따뜻한 커피처럼 (feat. 이성경) - Single None None 234706\n",
      "정류장 버스커버스커 슈퍼스타K 3 Top 11, Pt. 3 None None 206583\n",
      "1월부터 6월까지 From January to June 윤종신 행보 2013 윤종신 2 None 252161\n",
      "If You're Like Me (나와 같다면) 김연우 I Am a Singer (나는 가수다) Season 1 [Contest 3-2 - Recommended Songs from the Netizen] 1 None 218358\n",
      "사랑이 다른 사랑으로 잊혀지네 하림 Whistle In a Maze None None 289000\n",
      "出國 (출국) 하림 다중인격자 1 None 274867\n",
      "새벽 가로수길 백지영 & 송유빈 새벽 가로수길 - Single None None 222234\n",
      "거리에서 성시경 The Ballads None None 279341\n",
      "You Are My Spring 성시경 시크릿가든 (Original Television Soundtrack) 2 None 269187\n",
      "Mood Indigo 치즈 Q - EP 2 None 221619\n",
      "투유 프로젝트 슈가맨, Pt. 3 - 아마도 그건 Crush & 로꼬 투유 프로젝트 슈가맨, Pt. 3 - 아마도 그건 - Single None None 193267\n",
      "광화문에서 At Gwanghwamun 규현 The 1st Mini Album '광화문에서 At Gwanghwamun' None None 282806\n",
      "instagram DEAN instagram - Single 1 None 255729\n",
      "알렉산더처럼 왕 (feat. GRAY) 해쉬스완 Alexandrite None None 206981\n",
      "So Lost Ady Suleiman This Is My EP None None 236184\n",
      "Need Somebody To Love Ady Suleiman Memories 3 None 326573\n",
      "I Will Follow You Toulouse I Will Follow You - Single 1 None 159440\n",
      "Audio (feat. Sia, Diplo & Labrinth) LSD Audio (feat. Sia, Diplo & Labrinth) - Single 2 None 203400\n",
      "Titanium (feat. Sia) David Guetta Nothing But the Beat Ultimate 1 None 245053\n",
      "Chandelier Sia 1000 Forms of Fear 2 None 216120\n",
      "Stand By Me Ben E. King The Very Best of Ben E. King 2 None 174800\n",
      "Piano Man Billy Joel Piano Man None None 339291\n",
      "All Falls Down Alan Walker, Noah Cyrus & Digital Farm Animals All Falls Down - Single 3 None 199111\n",
      "SoulMate (feat. IU) ZICO SoulMate (feat. IU) - Single 3 None 219391\n",
      "첫눈처럼 너에게 가겠다 에일리 도깨비 (Original Television Soundtrack), Pt. 9 - Single 1 None 229678\n",
      "The Time Goes On 비와이 Time Travel 1 None 322679\n",
      "잠 못드는 밤 (feat. 펀치 Punch) Crush 괜찮아 사랑이야 (Original Television Soundtrack), Pt. 3 - Single None None 237539\n"
     ]
    }
   ],
   "source": [
    "for entry in all:\n",
    "    if ( lookup(entry, 'Track ID') is None ) : continue\n",
    "\n",
    "    name = lookup(entry, 'Name')\n",
    "    artist = lookup(entry, 'Artist')\n",
    "    album = lookup(entry, 'Album')\n",
    "    count = lookup(entry, 'Play Count')\n",
    "    rating = lookup(entry, 'Rating')\n",
    "    length = lookup(entry, 'Total Time')\n",
    "\n",
    "    if name is None or artist is None or album is None : \n",
    "        continue\n",
    "\n",
    "    print(name, artist, album, count, rating, length)\n",
    "\n",
    "    cur.execute('''INSERT OR IGNORE INTO Artist (name) \n",
    "        VALUES ( ? )''', ( artist, ) )\n",
    "    cur.execute('SELECT id FROM Artist WHERE name = ? ', (artist, ))\n",
    "    artist_id = cur.fetchone()[0]\n",
    "\n",
    "    cur.execute('''INSERT OR IGNORE INTO Album (title, artist_id) \n",
    "        VALUES ( ?, ? )''', ( album, artist_id ) )\n",
    "    cur.execute('SELECT id FROM Album WHERE title = ? ', (album, ))\n",
    "    album_id = cur.fetchone()[0]\n",
    "\n",
    "    cur.execute('''INSERT OR REPLACE INTO Track\n",
    "        (title, album_id, len, rating, count) \n",
    "        VALUES ( ?, ?, ?, ?, ? )''', \n",
    "        ( name, album_id, length, rating, count ) )\n",
    "    conn.commit()\n"
   ]
  },
  {
   "cell_type": "code",
   "execution_count": null,
   "metadata": {},
   "outputs": [],
   "source": []
  }
 ],
 "metadata": {
  "kernelspec": {
   "display_name": "Python 3",
   "language": "python",
   "name": "python3"
  },
  "language_info": {
   "codemirror_mode": {
    "name": "ipython",
    "version": 3
   },
   "file_extension": ".py",
   "mimetype": "text/x-python",
   "name": "python",
   "nbconvert_exporter": "python",
   "pygments_lexer": "ipython3",
   "version": "3.6.5"
  }
 },
 "nbformat": 4,
 "nbformat_minor": 2
}

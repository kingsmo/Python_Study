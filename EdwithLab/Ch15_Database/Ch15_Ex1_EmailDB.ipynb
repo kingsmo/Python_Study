{
 "cells": [
  {
   "cell_type": "markdown",
   "metadata": {},
   "source": [
    "## Ch15 Ex1 Email DB"
   ]
  },
  {
   "cell_type": "code",
   "execution_count": 26,
   "metadata": {},
   "outputs": [],
   "source": [
    "import sqlite3"
   ]
  },
  {
   "cell_type": "code",
   "execution_count": 27,
   "metadata": {},
   "outputs": [],
   "source": [
    "conn = sqlite3.connect('emaildb.sqlite')\n",
    "cur = conn.cursor()\n",
    "# con : 특정 db 파일과 connect 하는 것\n",
    "# 현재는 emaildb.sqlite 파일이 없으므로 새로 생성하게 된다.\n",
    "# cursor 메소드는 위의 연결을 사용하겠다는 것으로 보인다."
   ]
  },
  {
   "cell_type": "code",
   "execution_count": 28,
   "metadata": {},
   "outputs": [],
   "source": [
    "cur.execute('''DROP TABLE IF EXISTS Counts''');\n",
    "# 만약 emaildb 라는 곳에 Counts 라는 테이블이 남아있다면, 삭제한다."
   ]
  },
  {
   "cell_type": "code",
   "execution_count": 29,
   "metadata": {},
   "outputs": [],
   "source": [
    "cur.execute('''CREATE TABLE Counts (email TEXT, count INTEGER)''');\n",
    "# Counts 테이블을 생성하여 email, count 컬럼을 설정한다."
   ]
  },
  {
   "cell_type": "code",
   "execution_count": 30,
   "metadata": {},
   "outputs": [
    {
     "name": "stdout",
     "output_type": "stream",
     "text": [
      "Enter file name: \n"
     ]
    }
   ],
   "source": [
    "fname = input('Enter file name: ')\n",
    "if(len(fname) < 1):\n",
    "    fname = 'mbox-short.txt'\n",
    "fh = open(fname)\n",
    "# 특정 파일의 이름을 입력하여, 해당 파일을 읽을 수 있도록 open 한다.\n",
    "# 만약 아무 이름을 입력하지 않았다면, mbox-short 라는 텍스트 파일을 open 한다"
   ]
  },
  {
   "cell_type": "code",
   "execution_count": 31,
   "metadata": {},
   "outputs": [],
   "source": [
    "for line in fh:\n",
    "    if not line.startswith('From: '):\n",
    "        continue\n",
    "        \n",
    "    # file 을 열어 한 줄씩 읽어오며, From 으로 시작하는지를 검사한다.\n",
    "    # 만약 시작하지 않는다면 다음 줄로 넘어가 계속 진행한다.\n",
    "    \n",
    "    pieces = line.split()\n",
    "    email = pieces[1]\n",
    "    cur.execute('''SELECT count FROM Counts WHERE email = ?''', (email,))\n",
    "    row = cur.fetchone()\n",
    "\n",
    "    # 만약 From 으로 시작하는 문장을 찾았다면, 띄어쓰기로 나누어 pieces에 리스트 형태로 저장한다.\n",
    "    # email 은 pieces[0]인 From: 다음의 pieces[1] 이므로 해당 부분을 email 변수에 저장한다.\n",
    "    # emaildb 에서 방금 뽑아낸 pieces[1] 이메일값을 email 로 가지고 있는 행을 검색한다.\n",
    "    # execute 는 쿼리문을 실행시키는 명령어이며, 이 명령어의 결과값을 뽑아내기 위해서는 fetchall / fetchone 을 사용한다.\n",
    "    # 하나의 행만이 결과이겠지만, 어쨌든 fetchone 으로 하나의 행을 뽑아내어 row 에 저장한다.\n",
    "    \n",
    "    if row is None:\n",
    "        cur.execute('''INSERT INTO Counts (email, count) VALUES (?, 1)''',\n",
    "                   (email,))\n",
    "    else:\n",
    "        cur.execute('''UPDATE Counts SET count = count + 1 WHERE email = ?''',\n",
    "                   (email,))\n",
    "    conn.commit()\n",
    "    \n",
    "    # 만약 row 가 존재하지 않는다면, 해당 email 에 대해 count 가 1이 되도록 행을 추가한다.\n",
    "    # 만약 row 가 존재한다면, 해당 email 에 대해 count 가 기존의 값에서 1 증가하도록 행을 수정한다.\n",
    "    # 최종적으로 commit 메소드를 이용해 sql 에 명령어를 적용시키면 sql 에 값이 쓰여진다."
   ]
  },
  {
   "cell_type": "code",
   "execution_count": 32,
   "metadata": {},
   "outputs": [],
   "source": [
    "sqlstr = 'SELECT email, count FROM Counts ORDER BY count DESC LIMIT 5'\n",
    "# Counts 테이블에서 count 컬럼을 내림차순으로 정렬하여 가장 위의 5개의 행에 대해 \n",
    "# email과 count 값을 뽑아내는 쿼리문을 sqlstr 에 저장한다."
   ]
  },
  {
   "cell_type": "code",
   "execution_count": 33,
   "metadata": {},
   "outputs": [
    {
     "name": "stdout",
     "output_type": "stream",
     "text": [
      "cwen@iupui.edu 5\n",
      "zqian@umich.edu 4\n",
      "david.horwitz@uct.ac.za 4\n",
      "louis@media.berkeley.edu 3\n",
      "gsilver@umich.edu 3\n"
     ]
    }
   ],
   "source": [
    "for row in cur.execute(sqlstr):\n",
    "    print(str(row[0]), row[1])\n",
    "    # 위의 쿼리문에 대해 execute 로 뽑아낸 값을 row 단위로 나누면 email 과 count 를 가진 리스트가 반환되며\n",
    "    # 해당 리스트의 0번째 값과 1번째 값을 str 형태로 순차적으로 출력하면 email 과 count 가 출력된다."
   ]
  },
  {
   "cell_type": "code",
   "execution_count": 34,
   "metadata": {},
   "outputs": [],
   "source": [
    "cur.close()\n",
    "# 마지막으로 sqlite 의 connection 을 close 한다."
   ]
  },
  {
   "cell_type": "code",
   "execution_count": null,
   "metadata": {},
   "outputs": [],
   "source": []
  },
  {
   "cell_type": "code",
   "execution_count": null,
   "metadata": {},
   "outputs": [],
   "source": []
  },
  {
   "cell_type": "code",
   "execution_count": null,
   "metadata": {},
   "outputs": [],
   "source": []
  },
  {
   "cell_type": "code",
   "execution_count": null,
   "metadata": {},
   "outputs": [],
   "source": []
  },
  {
   "cell_type": "code",
   "execution_count": null,
   "metadata": {},
   "outputs": [],
   "source": []
  },
  {
   "cell_type": "code",
   "execution_count": null,
   "metadata": {},
   "outputs": [],
   "source": []
  }
 ],
 "metadata": {
  "kernelspec": {
   "display_name": "Python 3",
   "language": "python",
   "name": "python3"
  },
  "language_info": {
   "codemirror_mode": {
    "name": "ipython",
    "version": 3
   },
   "file_extension": ".py",
   "mimetype": "text/x-python",
   "name": "python",
   "nbconvert_exporter": "python",
   "pygments_lexer": "ipython3",
   "version": "3.6.5"
  }
 },
 "nbformat": 4,
 "nbformat_minor": 2
}

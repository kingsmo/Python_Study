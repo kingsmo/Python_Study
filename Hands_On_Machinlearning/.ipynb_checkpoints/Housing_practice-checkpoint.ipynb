{
 "cells": [
  {
   "cell_type": "markdown",
   "metadata": {},
   "source": [
    "# 2장 주택 가격 예측 연습문제"
   ]
  },
  {
   "cell_type": "markdown",
   "metadata": {},
   "source": [
    "### 데이터 인풋하고 나누기"
   ]
  },
  {
   "cell_type": "code",
   "execution_count": 1,
   "metadata": {},
   "outputs": [],
   "source": [
    "import os\n",
    "import pandas as pd\n",
    "import numpy as np\n",
    "import scipy\n",
    "%matplotlib inline\n",
    "import matplotlib.pyplot as plt"
   ]
  },
  {
   "cell_type": "code",
   "execution_count": 2,
   "metadata": {},
   "outputs": [
    {
     "name": "stdout",
     "output_type": "stream",
     "text": [
      "datasets\\housing\\housing.csv\n"
     ]
    },
    {
     "data": {
      "text/html": [
       "<div>\n",
       "<style scoped>\n",
       "    .dataframe tbody tr th:only-of-type {\n",
       "        vertical-align: middle;\n",
       "    }\n",
       "\n",
       "    .dataframe tbody tr th {\n",
       "        vertical-align: top;\n",
       "    }\n",
       "\n",
       "    .dataframe thead th {\n",
       "        text-align: right;\n",
       "    }\n",
       "</style>\n",
       "<table border=\"1\" class=\"dataframe\">\n",
       "  <thead>\n",
       "    <tr style=\"text-align: right;\">\n",
       "      <th></th>\n",
       "      <th>longitude</th>\n",
       "      <th>latitude</th>\n",
       "      <th>housing_median_age</th>\n",
       "      <th>total_rooms</th>\n",
       "      <th>total_bedrooms</th>\n",
       "      <th>population</th>\n",
       "      <th>households</th>\n",
       "      <th>median_income</th>\n",
       "      <th>median_house_value</th>\n",
       "      <th>ocean_proximity</th>\n",
       "    </tr>\n",
       "  </thead>\n",
       "  <tbody>\n",
       "    <tr>\n",
       "      <th>0</th>\n",
       "      <td>-122.23</td>\n",
       "      <td>37.88</td>\n",
       "      <td>41.0</td>\n",
       "      <td>880.0</td>\n",
       "      <td>129.0</td>\n",
       "      <td>322.0</td>\n",
       "      <td>126.0</td>\n",
       "      <td>8.3252</td>\n",
       "      <td>452600.0</td>\n",
       "      <td>NEAR BAY</td>\n",
       "    </tr>\n",
       "    <tr>\n",
       "      <th>1</th>\n",
       "      <td>-122.22</td>\n",
       "      <td>37.86</td>\n",
       "      <td>21.0</td>\n",
       "      <td>7099.0</td>\n",
       "      <td>1106.0</td>\n",
       "      <td>2401.0</td>\n",
       "      <td>1138.0</td>\n",
       "      <td>8.3014</td>\n",
       "      <td>358500.0</td>\n",
       "      <td>NEAR BAY</td>\n",
       "    </tr>\n",
       "    <tr>\n",
       "      <th>2</th>\n",
       "      <td>-122.24</td>\n",
       "      <td>37.85</td>\n",
       "      <td>52.0</td>\n",
       "      <td>1467.0</td>\n",
       "      <td>190.0</td>\n",
       "      <td>496.0</td>\n",
       "      <td>177.0</td>\n",
       "      <td>7.2574</td>\n",
       "      <td>352100.0</td>\n",
       "      <td>NEAR BAY</td>\n",
       "    </tr>\n",
       "    <tr>\n",
       "      <th>3</th>\n",
       "      <td>-122.25</td>\n",
       "      <td>37.85</td>\n",
       "      <td>52.0</td>\n",
       "      <td>1274.0</td>\n",
       "      <td>235.0</td>\n",
       "      <td>558.0</td>\n",
       "      <td>219.0</td>\n",
       "      <td>5.6431</td>\n",
       "      <td>341300.0</td>\n",
       "      <td>NEAR BAY</td>\n",
       "    </tr>\n",
       "    <tr>\n",
       "      <th>4</th>\n",
       "      <td>-122.25</td>\n",
       "      <td>37.85</td>\n",
       "      <td>52.0</td>\n",
       "      <td>1627.0</td>\n",
       "      <td>280.0</td>\n",
       "      <td>565.0</td>\n",
       "      <td>259.0</td>\n",
       "      <td>3.8462</td>\n",
       "      <td>342200.0</td>\n",
       "      <td>NEAR BAY</td>\n",
       "    </tr>\n",
       "  </tbody>\n",
       "</table>\n",
       "</div>"
      ],
      "text/plain": [
       "   longitude  latitude  housing_median_age  total_rooms  total_bedrooms  \\\n",
       "0    -122.23     37.88                41.0        880.0           129.0   \n",
       "1    -122.22     37.86                21.0       7099.0          1106.0   \n",
       "2    -122.24     37.85                52.0       1467.0           190.0   \n",
       "3    -122.25     37.85                52.0       1274.0           235.0   \n",
       "4    -122.25     37.85                52.0       1627.0           280.0   \n",
       "\n",
       "   population  households  median_income  median_house_value ocean_proximity  \n",
       "0       322.0       126.0         8.3252            452600.0        NEAR BAY  \n",
       "1      2401.0      1138.0         8.3014            358500.0        NEAR BAY  \n",
       "2       496.0       177.0         7.2574            352100.0        NEAR BAY  \n",
       "3       558.0       219.0         5.6431            341300.0        NEAR BAY  \n",
       "4       565.0       259.0         3.8462            342200.0        NEAR BAY  "
      ]
     },
     "execution_count": 2,
     "metadata": {},
     "output_type": "execute_result"
    }
   ],
   "source": [
    "HOUSING_PATH = os.path.join(\"datasets\", \"housing\")\n",
    "def load_housing_data(housing_path = HOUSING_PATH):\n",
    "    csv_path = os.path.join(housing_path, \"housing.csv\")\n",
    "    print(csv_path)\n",
    "    return pd.read_csv(csv_path)\n",
    "\n",
    "housing = load_housing_data()\n",
    "housing.head()"
   ]
  },
  {
   "cell_type": "code",
   "execution_count": 3,
   "metadata": {},
   "outputs": [
    {
     "data": {
      "text/plain": [
       "3.0    0.350581\n",
       "2.0    0.318847\n",
       "4.0    0.176308\n",
       "5.0    0.114438\n",
       "1.0    0.039826\n",
       "Name: income_cat, dtype: float64"
      ]
     },
     "execution_count": 3,
     "metadata": {},
     "output_type": "execute_result"
    }
   ],
   "source": [
    "housing[\"income_cat\"] = np.ceil(housing[\"median_income\"] / 1.5)\n",
    "housing[\"income_cat\"].where(housing[\"income_cat\"] < 5, 5.0, inplace = True)\n",
    "housing.head()\n",
    "\n",
    "from sklearn.model_selection import StratifiedShuffleSplit\n",
    "\n",
    "split = StratifiedShuffleSplit(n_splits = 1, test_size = 0.2, random_state=42) #계층 + 랜덤 샘플링\n",
    "for train_index, test_index in split.split(housing, housing[\"income_cat\"]):\n",
    "    strat_train_set = housing.loc[train_index]\n",
    "    strat_test_set = housing.loc[test_index]\n",
    "housing[\"income_cat\"].value_counts() / len(housing)"
   ]
  },
  {
   "cell_type": "code",
   "execution_count": 4,
   "metadata": {},
   "outputs": [],
   "source": [
    "housing = strat_train_set.drop(\"median_house_value\", axis = 1)\n",
    "housing_labels = strat_train_set[\"median_house_value\"].copy()"
   ]
  },
  {
   "cell_type": "markdown",
   "metadata": {},
   "source": [
    "### 스케일링하는 파이프라인 설정"
   ]
  },
  {
   "cell_type": "code",
   "execution_count": 5,
   "metadata": {},
   "outputs": [],
   "source": [
    "from sklearn.pipeline import Pipeline\n",
    "from sklearn.preprocessing import StandardScaler\n",
    "from sklearn.impute import SimpleImputer\n",
    "\n",
    "num_pipeline = Pipeline([\n",
    "    ('imputer', SimpleImputer(strategy=\"median\")),\n",
    "    ('std_scaler', StandardScaler())\n",
    "])"
   ]
  },
  {
   "cell_type": "code",
   "execution_count": 6,
   "metadata": {},
   "outputs": [],
   "source": [
    "from sklearn.base import BaseEstimator, TransformerMixin\n",
    "\n",
    "# 컬럼 인덱스\n",
    "rooms_ix, bedrooms_ix, population_ix, household_ix = 3, 4, 5, 6\n",
    "\n",
    "class CombinedAttributesAdder(BaseEstimator, TransformerMixin):\n",
    "    def __init__(self, add_bedrooms_per_room = True): # no *args or **kargs\n",
    "        self.add_bedrooms_per_room = add_bedrooms_per_room\n",
    "    def fit(self, X, y=None):\n",
    "        return self  # nothing else to do\n",
    "    def transform(self, X, y=None):\n",
    "        rooms_per_household = X[:, rooms_ix] / X[:, household_ix]\n",
    "        population_per_household = X[:, population_ix] / X[:, household_ix]\n",
    "        if self.add_bedrooms_per_room:\n",
    "            bedrooms_per_room = X[:, bedrooms_ix] / X[:, rooms_ix]\n",
    "            return np.c_[X, rooms_per_household, population_per_household,\n",
    "                         bedrooms_per_room]\n",
    "        else:\n",
    "            return np.c_[X, rooms_per_household, population_per_household]\n",
    "        \n",
    "attr_adder = CombinedAttributesAdder(add_bedrooms_per_room=False)\n",
    "housing_extra_attribs = attr_adder.transform(housing.values)\n",
    "\n",
    "housing_extra_attribs = pd.DataFrame(\n",
    "    housing_extra_attribs, \n",
    "    columns=list(housing.columns)+[\"rooms_per_household\", \"population_per_household\"])\n",
    "housing_extra_attribs.head()\n",
    "\n",
    "class DataFrameSelector(BaseEstimator, TransformerMixin):\n",
    "    def __init__(self, attribute_names):\n",
    "        self.attribute_names = attribute_names\n",
    "    def fit(self, X, y=None):\n",
    "        return self\n",
    "    def transform(self, X):\n",
    "        return X[self.attribute_names].values"
   ]
  },
  {
   "cell_type": "code",
   "execution_count": 7,
   "metadata": {},
   "outputs": [
    {
     "data": {
      "text/plain": [
       "SimpleImputer(copy=True, fill_value=None, missing_values=nan,\n",
       "       strategy='median', verbose=0)"
      ]
     },
     "execution_count": 7,
     "metadata": {},
     "output_type": "execute_result"
    }
   ],
   "source": [
    "from sklearn.impute import SimpleImputer\n",
    "\n",
    "imputer = SimpleImputer(strategy=\"median\")\n",
    "\n",
    "housing_num = housing.drop(\"ocean_proximity\", axis = 1)\n",
    "\n",
    "imputer.fit(housing_num)"
   ]
  },
  {
   "cell_type": "code",
   "execution_count": 8,
   "metadata": {},
   "outputs": [],
   "source": [
    "from sklearn.preprocessing import OneHotEncoder\n",
    "\n",
    "num_attribs = list(housing_num)\n",
    "cat_attribs = [\"ocean_proximity\"]\n",
    "\n",
    "num_pipeline = Pipeline([\n",
    "    ('selector', DataFrameSelector(num_attribs)),\n",
    "    ('imputer', SimpleImputer(strategy=\"median\")),\n",
    "    ('attribs_adder', CombinedAttributesAdder()),\n",
    "    ('std_scaler', StandardScaler())\n",
    "])\n",
    "cat_pipeline = Pipeline([\n",
    "    ('selector', DataFrameSelector(cat_attribs)),\n",
    "    ('cat_encoder', OneHotEncoder(categories='auto', sparse=False)),\n",
    "])\n",
    "from sklearn.pipeline import FeatureUnion\n",
    "\n",
    "full_pipeline = FeatureUnion(transformer_list=[\n",
    "    (\"num_pipeline\", num_pipeline),\n",
    "    (\"cat_pipeline\", cat_pipeline),\n",
    "])"
   ]
  },
  {
   "cell_type": "markdown",
   "metadata": {},
   "source": [
    "### 테스트 데이터 준비"
   ]
  },
  {
   "cell_type": "code",
   "execution_count": 9,
   "metadata": {},
   "outputs": [],
   "source": [
    "housing_prepared = full_pipeline.fit_transform(housing)"
   ]
  },
  {
   "cell_type": "markdown",
   "metadata": {},
   "source": [
    "1. 서포트 벡터 머신 회귀(sklearn.svm.SVR)를 kernel=“linear”(하이퍼파라미터 C를 바꿔가며)나 kernel=“rbf”(하이퍼파라미터 C와 gamma를 바꿔가며) 등의 다양한 하이퍼파라미터 설정으로 시도해보세요. 지금은 이 하이퍼파라미터가 무엇을 의미하는지 너무 신경 쓰지 마세요. 최상의 SVR 모델은 무엇인가요?"
   ]
  },
  {
   "cell_type": "code",
   "execution_count": 10,
   "metadata": {},
   "outputs": [
    {
     "name": "stdout",
     "output_type": "stream",
     "text": [
      "Fitting 2 folds for each of 36 candidates, totalling 72 fits\n"
     ]
    },
    {
     "name": "stderr",
     "output_type": "stream",
     "text": [
      "[Parallel(n_jobs=-1)]: Using backend LokyBackend with 4 concurrent workers.\n",
      "[Parallel(n_jobs=-1)]: Done  33 tasks      | elapsed:  3.9min\n",
      "[Parallel(n_jobs=-1)]: Done  72 out of  72 | elapsed:  8.3min finished\n"
     ]
    },
    {
     "data": {
      "text/plain": [
       "GridSearchCV(cv=2, error_score='raise-deprecating',\n",
       "       estimator=SVR(C=1.0, cache_size=200, coef0=0.0, degree=3, epsilon=0.1,\n",
       "  gamma='auto_deprecated', kernel='rbf', max_iter=-1, shrinking=True,\n",
       "  tol=0.001, verbose=False),\n",
       "       fit_params=None, iid='warn', n_jobs=-1,\n",
       "       param_grid=[{'kernel': ['linear'], 'C': [10.0, 30.0, 100.0, 300.0, 1000.0, 3000.0]}, {'kernel': ['rbf'], 'C': [1.0, 3.0, 10.0, 30.0, 100.0], 'gamma': [0.01, 0.03, 0.1, 0.3, 1.0, 3.0]}],\n",
       "       pre_dispatch='2*n_jobs', refit=True, return_train_score='warn',\n",
       "       scoring='neg_mean_squared_error', verbose=2)"
      ]
     },
     "execution_count": 10,
     "metadata": {},
     "output_type": "execute_result"
    }
   ],
   "source": [
    "from sklearn.model_selection import GridSearchCV\n",
    "from sklearn.svm import SVR\n",
    "param_grid = [\n",
    "    {'kernel': ['linear'], 'C': [10., 30., 100., 300., 1000., 3000.]},\n",
    "    {'kernel': ['rbf'], 'C': [1.0, 3.0, 10., 30., 100.,],\n",
    "    'gamma' : [0.01, 0.03, 0.1, 0.3, 1.0, 3.0]},\n",
    "]\n",
    "\n",
    "svm_reg = SVR()\n",
    "grid_search = GridSearchCV(svm_reg, param_grid, cv=2, scoring='neg_mean_squared_error',\n",
    "                          verbose=2, n_jobs=-1)\n",
    "grid_search.fit(housing_prepared, housing_labels)\n"
   ]
  },
  {
   "cell_type": "markdown",
   "metadata": {},
   "source": [
    "#### grid search (2-fold 교차검증)"
   ]
  },
  {
   "cell_type": "code",
   "execution_count": 11,
   "metadata": {},
   "outputs": [
    {
     "data": {
      "text/plain": [
       "70410.64934822368"
      ]
     },
     "execution_count": 11,
     "metadata": {},
     "output_type": "execute_result"
    }
   ],
   "source": [
    "negative_mse = grid_search.best_score_\n",
    "rmse = np.sqrt(-negative_mse)\n",
    "rmse"
   ]
  },
  {
   "cell_type": "code",
   "execution_count": 23,
   "metadata": {},
   "outputs": [
    {
     "ename": "AttributeError",
     "evalue": "'SVR' object has no attribute 'feature_importances_'",
     "output_type": "error",
     "traceback": [
      "\u001b[1;31m---------------------------------------------------------------------------\u001b[0m",
      "\u001b[1;31mAttributeError\u001b[0m                            Traceback (most recent call last)",
      "\u001b[1;32m<ipython-input-23-82c1714398e4>\u001b[0m in \u001b[0;36m<module>\u001b[1;34m\u001b[0m\n\u001b[0;32m      1\u001b[0m \u001b[0mgrid_search\u001b[0m\u001b[1;33m.\u001b[0m\u001b[0mbest_params_\u001b[0m\u001b[1;33m\u001b[0m\u001b[0m\n\u001b[0;32m      2\u001b[0m \u001b[1;33m\u001b[0m\u001b[0m\n\u001b[1;32m----> 3\u001b[1;33m \u001b[0mfeature_importances\u001b[0m \u001b[1;33m=\u001b[0m \u001b[0mgrid_search\u001b[0m\u001b[1;33m.\u001b[0m\u001b[0mbest_estimator_\u001b[0m\u001b[1;33m.\u001b[0m\u001b[0mfeature_importances_\u001b[0m\u001b[1;33m\u001b[0m\u001b[0m\n\u001b[0m\u001b[0;32m      4\u001b[0m \u001b[0mfeature_importances\u001b[0m\u001b[1;33m\u001b[0m\u001b[0m\n",
      "\u001b[1;31mAttributeError\u001b[0m: 'SVR' object has no attribute 'feature_importances_'"
     ]
    }
   ],
   "source": [
    "grid_search.best_params_"
   ]
  },
  {
   "cell_type": "markdown",
   "metadata": {},
   "source": [
    "2.  GridSearchCV를 RandomizedSearchCV로 바꿔보세요."
   ]
  },
  {
   "cell_type": "code",
   "execution_count": 13,
   "metadata": {},
   "outputs": [
    {
     "name": "stdout",
     "output_type": "stream",
     "text": [
      "Fitting 2 folds for each of 20 candidates, totalling 40 fits\n"
     ]
    },
    {
     "name": "stderr",
     "output_type": "stream",
     "text": [
      "[Parallel(n_jobs=-1)]: Using backend LokyBackend with 4 concurrent workers.\n",
      "[Parallel(n_jobs=-1)]: Done  33 tasks      | elapsed:  3.6min\n",
      "[Parallel(n_jobs=-1)]: Done  40 out of  40 | elapsed:  4.2min finished\n"
     ]
    },
    {
     "data": {
      "text/plain": [
       "RandomizedSearchCV(cv=2, error_score='raise-deprecating',\n",
       "          estimator=SVR(C=1.0, cache_size=200, coef0=0.0, degree=3, epsilon=0.1,\n",
       "  gamma='auto_deprecated', kernel='rbf', max_iter=-1, shrinking=True,\n",
       "  tol=0.001, verbose=False),\n",
       "          fit_params=None, iid='warn', n_iter=20, n_jobs=-1,\n",
       "          param_distributions={'kernel': ['linear', 'rbf'], 'C': <scipy.stats._distn_infrastructure.rv_frozen object at 0x000001D1F0A8B2B0>, 'gamma': <scipy.stats._distn_infrastructure.rv_frozen object at 0x000001D1F0A8BD30>},\n",
       "          pre_dispatch='2*n_jobs', random_state=42, refit=True,\n",
       "          return_train_score='warn', scoring='neg_mean_squared_error',\n",
       "          verbose=2)"
      ]
     },
     "execution_count": 13,
     "metadata": {},
     "output_type": "execute_result"
    }
   ],
   "source": [
    "from sklearn.model_selection import RandomizedSearchCV\n",
    "from scipy.stats import expon, reciprocal # 확률 분포 함수\n",
    "\n",
    "param_distribs = {\n",
    "    'kernel' :['linear', 'rbf'],\n",
    "    'C': reciprocal(20, 10000),\n",
    "    'gamma' : expon(scale=1.0),\n",
    "}\n",
    "\n",
    "svm_reg = SVR()\n",
    "rnd_search = RandomizedSearchCV(svm_reg, param_distributions=param_distribs,\n",
    "                               n_iter=20, cv=2, scoring='neg_mean_squared_error',\n",
    "                               verbose=2, n_jobs=-1, random_state=42)\n",
    "rnd_search.fit(housing_prepared, housing_labels)"
   ]
  },
  {
   "cell_type": "code",
   "execution_count": 14,
   "metadata": {},
   "outputs": [
    {
     "data": {
      "text/plain": [
       "65445.44438729063"
      ]
     },
     "execution_count": 14,
     "metadata": {},
     "output_type": "execute_result"
    }
   ],
   "source": [
    "negative_mse = rnd_search.best_score_\n",
    "rmse = np.sqrt(-negative_mse)\n",
    "rmse"
   ]
  },
  {
   "cell_type": "code",
   "execution_count": 45,
   "metadata": {},
   "outputs": [
    {
     "data": {
      "text/plain": [
       "{'C': 8495.069427568937, 'gamma': 0.26497040005002437, 'kernel': 'rbf'}"
      ]
     },
     "execution_count": 45,
     "metadata": {},
     "output_type": "execute_result"
    }
   ],
   "source": [
    "rnd_search.best_params_"
   ]
  },
  {
   "cell_type": "markdown",
   "metadata": {},
   "source": [
    "여기서 사용된 scale=1.0인 지수 분포를 살펴보겠습니다. 일부 샘플은 1.0보다 아주 크거나 작습니다. 하지만 로그 분포를 보면 대부분의 값이 exp(-2)와 exp(+2), 즉 0.1과 7.4 사이에 집중되어 있음을 알 수 있습니다."
   ]
  },
  {
   "cell_type": "code",
   "execution_count": 16,
   "metadata": {},
   "outputs": [
    {
     "data": {
      "image/png": "[encoded data removed]",
      "text/plain": [
       "<Figure size 720x288 with 2 Axes>"
      ]
     },
     "metadata": {
      "needs_background": "light"
     },
     "output_type": "display_data"
    }
   ],
   "source": [
    "expon_distrib = expon(scale=1.)\n",
    "samples = expon_distrib.rvs(10000, random_state=42)\n",
    "plt.figure(figsize=(10, 4))\n",
    "plt.subplot(121)\n",
    "plt.title(\"Exponential distribution (Scale=1.0)\")\n",
    "plt.hist(samples, bins=50)\n",
    "\n",
    "plt.subplot(122)\n",
    "plt.title(\"Log of this distribution\")\n",
    "plt.hist(np.log(samples), bins=50)\n",
    "plt.show()"
   ]
  },
  {
   "cell_type": "markdown",
   "metadata": {},
   "source": [
    "C에 사용된 분포는 매우 다릅니다. 주어진 범위안에서 균등 분포로 샘플링됩니다. 그래서 오른쪽 로그 분포가 거의 일정하게 나타납니다. 이런 분포는 원하는 스케일이 정확이 무엇인지 모를 때 사용하면 좋습니다:"
   ]
  },
  {
   "cell_type": "code",
   "execution_count": 17,
   "metadata": {},
   "outputs": [
    {
     "data": {
      "image/png": "[encoded data removed]",
      "text/plain": [
       "<Figure size 720x288 with 2 Axes>"
      ]
     },
     "metadata": {
      "needs_background": "light"
     },
     "output_type": "display_data"
    }
   ],
   "source": [
    "reciprocal_distrib = reciprocal(20, 10000)\n",
    "samples = reciprocal_distrib.rvs(10000, random_state=42)\n",
    "plt.figure(figsize=(10, 4))\n",
    "plt.subplot(121)\n",
    "plt.title('Reciprocal distribution (scale = 1.0)')\n",
    "plt.hist(samples, bins=50)\n",
    "plt.subplot(122)\n",
    "plt.title(\"Log of this distribution\")\n",
    "plt.hist(np.log(samples), bins=50)\n",
    "plt.show()"
   ]
  },
  {
   "cell_type": "markdown",
   "metadata": {},
   "source": [
    "reciprocal() 함수는 하이퍼파라미터의 스케일에 대해 전혀 감을 잡을 수 없을 때 사용합니다(오른쪽 그래프에서 볼 수 있듯이 주어진 범위안에서 모든 값이 균등합니다). 반면 지수 분포는 하이퍼파라미터의 스케일을 (어느정도) 알고 있을 때 사용하는 것이 좋습니다."
   ]
  },
  {
   "cell_type": "markdown",
   "metadata": {},
   "source": [
    "3. 가장 중요한 특성을 선택하는 변환기를 준비 파이프라인에 추가해보세요."
   ]
  },
  {
   "cell_type": "code",
   "execution_count": 18,
   "metadata": {},
   "outputs": [],
   "source": [
    "from sklearn.base import BaseEstimator, TransformerMixin\n",
    "\n",
    "def indices_of_top_k(arr, k):\n",
    "    return np.sort(np.argpartition(np.array(arr), -k)[-k:])\n",
    "\n",
    "class TopFeatureSelector(BaseEstimator, TransformerMixin):\n",
    "    def __init__(self, feature_importances, k):\n",
    "        self.feature_importances = feature_importances\n",
    "        self.k = k\n",
    "    \n",
    "    def fit(self, X, y=None):\n",
    "        self.feature_indices_ = indices_of_top_k(self.feature_importances, self.k)\n",
    "        return self\n",
    "\n",
    "    def transform(self, X):\n",
    "        return X[:, self.feature_indices_]\n"
   ]
  },
  {
   "cell_type": "code",
   "execution_count": 26,
   "metadata": {},
   "outputs": [
    {
     "data": {
      "text/plain": [
       "array([6.32697188e-02, 5.84134989e-02, 4.59009503e-02, 1.63689826e-02,\n",
       "       1.49848206e-02, 1.52769435e-02, 1.50323815e-02, 2.93044632e-01,\n",
       "       1.29578502e-01, 3.52390412e-02, 1.10741546e-01, 5.07099794e-02,\n",
       "       4.11768495e-03, 1.41678966e-01, 7.22632766e-05, 2.39872261e-03,\n",
       "       3.17136684e-03])"
      ]
     },
     "execution_count": 26,
     "metadata": {},
     "output_type": "execute_result"
    }
   ],
   "source": [
    "from sklearn.model_selection import GridSearchCV\n",
    "from sklearn.ensemble import RandomForestRegressor\n",
    "param_grid = [\n",
    "    {'n_estimators' : [3, 10, 30], 'max_features' : [2, 4, 6, 8]},\n",
    "    {'bootstrap': [False], 'n_estimators':[3, 10], 'max_features':[2, 3, 4]},\n",
    "]\n",
    "\n",
    "forest_reg = RandomForestRegressor(n_estimators=10)\n",
    "grid_search = GridSearchCV(forest_reg, param_grid, cv=5,\n",
    "                          scoring = \"neg_mean_squared_error\",\n",
    "                          return_train_score=True)\n",
    "\n",
    "grid_search.fit(housing_prepared, housing_labels)\n",
    "\n",
    "feature_importances = grid_search.best_estimator_.feature_importances_\n",
    "feature_importances"
   ]
  },
  {
   "cell_type": "code",
   "execution_count": 27,
   "metadata": {},
   "outputs": [],
   "source": [
    "k = 5"
   ]
  },
  {
   "cell_type": "code",
   "execution_count": 28,
   "metadata": {},
   "outputs": [
    {
     "data": {
      "text/plain": [
       "array([ 0,  7,  8, 10, 13], dtype=int64)"
      ]
     },
     "execution_count": 28,
     "metadata": {},
     "output_type": "execute_result"
    }
   ],
   "source": [
    "top_k_feature_indices = indices_of_top_k(feature_importances, k)\n",
    "top_k_feature_indices"
   ]
  },
  {
   "cell_type": "code",
   "execution_count": 34,
   "metadata": {},
   "outputs": [
    {
     "data": {
      "text/plain": [
       "array(['longitude', 'median_income', 'income_cat', 'pop_per_hhold',\n",
       "       'INLAND'], dtype='<U18')"
      ]
     },
     "execution_count": 34,
     "metadata": {},
     "output_type": "execute_result"
    }
   ],
   "source": [
    "extra_attribs = [\"rooms_per_hhold\", \"pop_per_hhold\", \"bedrooms_per_room\"]\n",
    "cat_encoder = cat_pipeline.named_steps[\"cat_encoder\"] # 파이프라인에서 특징하나 가져오기\n",
    "cat_one_hot_attribs = list(cat_encoder.categories_[0])\n",
    "attributes = num_attribs + extra_attribs + cat_one_hot_attribs\n",
    "np.array(attributes)[top_k_feature_indices]"
   ]
  },
  {
   "cell_type": "code",
   "execution_count": 35,
   "metadata": {},
   "outputs": [
    {
     "data": {
      "text/plain": [
       "[(0.2930446320843275, 'median_income'),\n",
       " (0.14167896604947747, 'INLAND'),\n",
       " (0.12957850182468184, 'income_cat'),\n",
       " (0.11074154554815495, 'pop_per_hhold'),\n",
       " (0.0632697187893842, 'longitude')]"
      ]
     },
     "execution_count": 35,
     "metadata": {},
     "output_type": "execute_result"
    }
   ],
   "source": [
    "sorted(zip(feature_importances, attributes), reverse=True)[:k]"
   ]
  },
  {
   "cell_type": "code",
   "execution_count": 37,
   "metadata": {},
   "outputs": [],
   "source": [
    "preparation_and_feature_selection_pipeline = Pipeline([\n",
    "    ('preparation', full_pipeline),\n",
    "    ('feature_selection', TopFeatureSelector(feature_importances, k))\n",
    "])"
   ]
  },
  {
   "cell_type": "code",
   "execution_count": 39,
   "metadata": {},
   "outputs": [
    {
     "data": {
      "text/plain": [
       "array([[-1.15604281, -0.61493744, -0.95445595, -0.08649871,  0.        ],\n",
       "       [-1.17602483,  1.33645936,  1.89030518, -0.03353391,  0.        ],\n",
       "       [ 1.18684903, -0.5320456 , -0.95445595, -0.09240499,  0.        ],\n",
       "       ...,\n",
       "       [ 1.58648943, -0.3167053 , -0.00620224, -0.03055414,  1.        ],\n",
       "       [ 0.78221312,  0.09812139, -0.00620224,  0.06150916,  0.        ],\n",
       "       [-1.43579109, -0.15779865, -0.00620224, -0.09586294,  0.        ]])"
      ]
     },
     "execution_count": 39,
     "metadata": {},
     "output_type": "execute_result"
    }
   ],
   "source": [
    "housing_prepared_top_k_features = preparation_and_feature_selection_pipeline.fit_transform(housing)\n",
    "housing_prepared_top_k_features"
   ]
  },
  {
   "cell_type": "code",
   "execution_count": 40,
   "metadata": {},
   "outputs": [
    {
     "data": {
      "text/plain": [
       "array([[-1.15604281, -0.61493744, -0.95445595, -0.08649871,  0.        ],\n",
       "       [-1.17602483,  1.33645936,  1.89030518, -0.03353391,  0.        ],\n",
       "       [ 1.18684903, -0.5320456 , -0.95445595, -0.09240499,  0.        ]])"
      ]
     },
     "execution_count": 40,
     "metadata": {},
     "output_type": "execute_result"
    }
   ],
   "source": [
    "housing_prepared[0:3, top_k_feature_indices]"
   ]
  },
  {
   "cell_type": "markdown",
   "metadata": {},
   "source": [
    "4. 전체 데이터 준비 과정과 최종 예측을 하나의 파이프라인으로 만들어 보세요."
   ]
  },
  {
   "cell_type": "code",
   "execution_count": 52,
   "metadata": {},
   "outputs": [],
   "source": [
    "prepare_select_and_predict_pipeline = Pipeline([\n",
    "    ('preparation', full_pipeline),\n",
    "    ('feature_selection', TopFeatureSelector(feature_importances, k)),\n",
    "    ('svm_reg',  SVR(**rnd_search.best_params_))\n",
    "])"
   ]
  },
  {
   "cell_type": "code",
   "execution_count": 53,
   "metadata": {},
   "outputs": [
    {
     "data": {
      "text/plain": [
       "Pipeline(memory=None,\n",
       "     steps=[('preparation', FeatureUnion(n_jobs=None,\n",
       "       transformer_list=[('num_pipeline', Pipeline(memory=None,\n",
       "     steps=[('selector', DataFrameSelector(attribute_names=['longitude', 'latitude', 'housing_median_age', 'total_rooms', 'total_bedrooms', 'population', 'households', 'median_income', 'i... gamma=0.26497040005002437, kernel='rbf', max_iter=-1, shrinking=True,\n",
       "  tol=0.001, verbose=False))])"
      ]
     },
     "execution_count": 53,
     "metadata": {},
     "output_type": "execute_result"
    }
   ],
   "source": [
    "prepare_select_and_predict_pipeline.fit(housing, housing_labels)"
   ]
  },
  {
   "cell_type": "markdown",
   "metadata": {},
   "source": [
    "샘플링해서 파이프라인 적용"
   ]
  },
  {
   "cell_type": "code",
   "execution_count": 58,
   "metadata": {},
   "outputs": [
    {
     "name": "stdout",
     "output_type": "stream",
     "text": [
      "예측 :  [191742. 336334. 170849.  53796.]\n",
      "레이블 :  [286600.0, 340600.0, 196900.0, 46300.0]\n"
     ]
    }
   ],
   "source": [
    "some_data = housing.iloc[:4]\n",
    "some_labels = housing_labels.iloc[:4]\n",
    "\n",
    "print(\"예측 : \", np.round(prepare_select_and_predict_pipeline.predict(some_data)))\n",
    "print(\"레이블 : \", list(some_labels))"
   ]
  },
  {
   "cell_type": "markdown",
   "metadata": {},
   "source": [
    "5. GridSearchCV를 사용해 준비 단계의 옵션을 자동으로 탐색해보세요."
   ]
  },
  {
   "cell_type": "code",
   "execution_count": 63,
   "metadata": {},
   "outputs": [
    {
     "name": "stdout",
     "output_type": "stream",
     "text": [
      "Fitting 2 folds for each of 51 candidates, totalling 102 fits\n",
      "[CV] feature_selection__k=1, preparation__num_pipeline__imputer__strategy=mean \n"
     ]
    },
    {
     "name": "stderr",
     "output_type": "stream",
     "text": [
      "[Parallel(n_jobs=1)]: Using backend SequentialBackend with 1 concurrent workers.\n"
     ]
    },
    {
     "name": "stdout",
     "output_type": "stream",
     "text": [
      "[CV]  feature_selection__k=1, preparation__num_pipeline__imputer__strategy=mean, total=   5.2s\n",
      "[CV] feature_selection__k=1, preparation__num_pipeline__imputer__strategy=mean \n"
     ]
    },
    {
     "name": "stderr",
     "output_type": "stream",
     "text": [
      "[Parallel(n_jobs=1)]: Done   1 out of   1 | elapsed:    6.8s remaining:    0.0s\n"
     ]
    },
    {
     "name": "stdout",
     "output_type": "stream",
     "text": [
      "[CV]  feature_selection__k=1, preparation__num_pipeline__imputer__strategy=mean, total=   5.8s\n",
      "[CV] feature_selection__k=1, preparation__num_pipeline__imputer__strategy=median \n",
      "[CV]  feature_selection__k=1, preparation__num_pipeline__imputer__strategy=median, total=   8.0s\n",
      "[CV] feature_selection__k=1, preparation__num_pipeline__imputer__strategy=median \n",
      "[CV]  feature_selection__k=1, preparation__num_pipeline__imputer__strategy=median, total=  12.7s\n",
      "[CV] feature_selection__k=1, preparation__num_pipeline__imputer__strategy=most_frequent \n",
      "[CV]  feature_selection__k=1, preparation__num_pipeline__imputer__strategy=most_frequent, total=   9.7s\n",
      "[CV] feature_selection__k=1, preparation__num_pipeline__imputer__strategy=most_frequent \n",
      "[CV]  feature_selection__k=1, preparation__num_pipeline__imputer__strategy=most_frequent, total=   7.3s\n",
      "[CV] feature_selection__k=2, preparation__num_pipeline__imputer__strategy=mean \n",
      "[CV]  feature_selection__k=2, preparation__num_pipeline__imputer__strategy=mean, total=   6.3s\n",
      "[CV] feature_selection__k=2, preparation__num_pipeline__imputer__strategy=mean \n",
      "[CV]  feature_selection__k=2, preparation__num_pipeline__imputer__strategy=mean, total=   7.7s\n",
      "[CV] feature_selection__k=2, preparation__num_pipeline__imputer__strategy=median \n",
      "[CV]  feature_selection__k=2, preparation__num_pipeline__imputer__strategy=median, total=   7.3s\n",
      "[CV] feature_selection__k=2, preparation__num_pipeline__imputer__strategy=median \n",
      "[CV]  feature_selection__k=2, preparation__num_pipeline__imputer__strategy=median, total=   6.6s\n",
      "[CV] feature_selection__k=2, preparation__num_pipeline__imputer__strategy=most_frequent \n",
      "[CV]  feature_selection__k=2, preparation__num_pipeline__imputer__strategy=most_frequent, total=   8.3s\n",
      "[CV] feature_selection__k=2, preparation__num_pipeline__imputer__strategy=most_frequent \n",
      "[CV]  feature_selection__k=2, preparation__num_pipeline__imputer__strategy=most_frequent, total=   9.3s\n",
      "[CV] feature_selection__k=3, preparation__num_pipeline__imputer__strategy=mean \n",
      "[CV]  feature_selection__k=3, preparation__num_pipeline__imputer__strategy=mean, total=   6.8s\n",
      "[CV] feature_selection__k=3, preparation__num_pipeline__imputer__strategy=mean \n",
      "[CV]  feature_selection__k=3, preparation__num_pipeline__imputer__strategy=mean, total=   7.1s\n",
      "[CV] feature_selection__k=3, preparation__num_pipeline__imputer__strategy=median \n",
      "[CV]  feature_selection__k=3, preparation__num_pipeline__imputer__strategy=median, total=   6.5s\n",
      "[CV] feature_selection__k=3, preparation__num_pipeline__imputer__strategy=median \n",
      "[CV]  feature_selection__k=3, preparation__num_pipeline__imputer__strategy=median, total=   7.4s\n",
      "[CV] feature_selection__k=3, preparation__num_pipeline__imputer__strategy=most_frequent \n",
      "[CV]  feature_selection__k=3, preparation__num_pipeline__imputer__strategy=most_frequent, total=   6.4s\n",
      "[CV] feature_selection__k=3, preparation__num_pipeline__imputer__strategy=most_frequent \n",
      "[CV]  feature_selection__k=3, preparation__num_pipeline__imputer__strategy=most_frequent, total=   6.4s\n",
      "[CV] feature_selection__k=4, preparation__num_pipeline__imputer__strategy=mean \n",
      "[CV]  feature_selection__k=4, preparation__num_pipeline__imputer__strategy=mean, total=   6.3s\n",
      "[CV] feature_selection__k=4, preparation__num_pipeline__imputer__strategy=mean \n",
      "[CV]  feature_selection__k=4, preparation__num_pipeline__imputer__strategy=mean, total=   4.6s\n",
      "[CV] feature_selection__k=4, preparation__num_pipeline__imputer__strategy=median \n",
      "[CV]  feature_selection__k=4, preparation__num_pipeline__imputer__strategy=median, total=   5.9s\n",
      "[CV] feature_selection__k=4, preparation__num_pipeline__imputer__strategy=median \n",
      "[CV]  feature_selection__k=4, preparation__num_pipeline__imputer__strategy=median, total=   4.6s\n",
      "[CV] feature_selection__k=4, preparation__num_pipeline__imputer__strategy=most_frequent \n",
      "[CV]  feature_selection__k=4, preparation__num_pipeline__imputer__strategy=most_frequent, total=   5.4s\n",
      "[CV] feature_selection__k=4, preparation__num_pipeline__imputer__strategy=most_frequent \n",
      "[CV]  feature_selection__k=4, preparation__num_pipeline__imputer__strategy=most_frequent, total=   5.1s\n",
      "[CV] feature_selection__k=5, preparation__num_pipeline__imputer__strategy=mean \n",
      "[CV]  feature_selection__k=5, preparation__num_pipeline__imputer__strategy=mean, total=   4.6s\n",
      "[CV] feature_selection__k=5, preparation__num_pipeline__imputer__strategy=mean \n",
      "[CV]  feature_selection__k=5, preparation__num_pipeline__imputer__strategy=mean, total=   4.9s\n",
      "[CV] feature_selection__k=5, preparation__num_pipeline__imputer__strategy=median \n",
      "[CV]  feature_selection__k=5, preparation__num_pipeline__imputer__strategy=median, total=   5.7s\n",
      "[CV] feature_selection__k=5, preparation__num_pipeline__imputer__strategy=median \n",
      "[CV]  feature_selection__k=5, preparation__num_pipeline__imputer__strategy=median, total=   5.8s\n",
      "[CV] feature_selection__k=5, preparation__num_pipeline__imputer__strategy=most_frequent \n",
      "[CV]  feature_selection__k=5, preparation__num_pipeline__imputer__strategy=most_frequent, total=   5.6s\n",
      "[CV] feature_selection__k=5, preparation__num_pipeline__imputer__strategy=most_frequent \n",
      "[CV]  feature_selection__k=5, preparation__num_pipeline__imputer__strategy=most_frequent, total=   5.8s\n",
      "[CV] feature_selection__k=6, preparation__num_pipeline__imputer__strategy=mean \n",
      "[CV]  feature_selection__k=6, preparation__num_pipeline__imputer__strategy=mean, total=   5.0s\n",
      "[CV] feature_selection__k=6, preparation__num_pipeline__imputer__strategy=mean \n",
      "[CV]  feature_selection__k=6, preparation__num_pipeline__imputer__strategy=mean, total=   5.4s\n",
      "[CV] feature_selection__k=6, preparation__num_pipeline__imputer__strategy=median \n",
      "[CV]  feature_selection__k=6, preparation__num_pipeline__imputer__strategy=median, total=   5.8s\n",
      "[CV] feature_selection__k=6, preparation__num_pipeline__imputer__strategy=median \n",
      "[CV]  feature_selection__k=6, preparation__num_pipeline__imputer__strategy=median, total=   5.6s\n",
      "[CV] feature_selection__k=6, preparation__num_pipeline__imputer__strategy=most_frequent \n",
      "[CV]  feature_selection__k=6, preparation__num_pipeline__imputer__strategy=most_frequent, total=   5.7s\n",
      "[CV] feature_selection__k=6, preparation__num_pipeline__imputer__strategy=most_frequent \n",
      "[CV]  feature_selection__k=6, preparation__num_pipeline__imputer__strategy=most_frequent, total=   6.5s\n",
      "[CV] feature_selection__k=7, preparation__num_pipeline__imputer__strategy=mean \n",
      "[CV]  feature_selection__k=7, preparation__num_pipeline__imputer__strategy=mean, total=   7.5s\n",
      "[CV] feature_selection__k=7, preparation__num_pipeline__imputer__strategy=mean \n",
      "[CV]  feature_selection__k=7, preparation__num_pipeline__imputer__strategy=mean, total=   5.6s\n",
      "[CV] feature_selection__k=7, preparation__num_pipeline__imputer__strategy=median \n",
      "[CV]  feature_selection__k=7, preparation__num_pipeline__imputer__strategy=median, total=   7.4s\n",
      "[CV] feature_selection__k=7, preparation__num_pipeline__imputer__strategy=median \n",
      "[CV]  feature_selection__k=7, preparation__num_pipeline__imputer__strategy=median, total=   5.1s\n",
      "[CV] feature_selection__k=7, preparation__num_pipeline__imputer__strategy=most_frequent \n",
      "[CV]  feature_selection__k=7, preparation__num_pipeline__imputer__strategy=most_frequent, total=   5.6s\n",
      "[CV] feature_selection__k=7, preparation__num_pipeline__imputer__strategy=most_frequent \n",
      "[CV]  feature_selection__k=7, preparation__num_pipeline__imputer__strategy=most_frequent, total=   5.5s\n",
      "[CV] feature_selection__k=8, preparation__num_pipeline__imputer__strategy=mean \n",
      "[CV]  feature_selection__k=8, preparation__num_pipeline__imputer__strategy=mean, total=   5.2s\n",
      "[CV] feature_selection__k=8, preparation__num_pipeline__imputer__strategy=mean \n",
      "[CV]  feature_selection__k=8, preparation__num_pipeline__imputer__strategy=mean, total=   5.6s\n",
      "[CV] feature_selection__k=8, preparation__num_pipeline__imputer__strategy=median \n",
      "[CV]  feature_selection__k=8, preparation__num_pipeline__imputer__strategy=median, total=   5.9s\n",
      "[CV] feature_selection__k=8, preparation__num_pipeline__imputer__strategy=median \n",
      "[CV]  feature_selection__k=8, preparation__num_pipeline__imputer__strategy=median, total=   7.7s\n",
      "[CV] feature_selection__k=8, preparation__num_pipeline__imputer__strategy=most_frequent \n",
      "[CV]  feature_selection__k=8, preparation__num_pipeline__imputer__strategy=most_frequent, total=   7.3s\n",
      "[CV] feature_selection__k=8, preparation__num_pipeline__imputer__strategy=most_frequent \n",
      "[CV]  feature_selection__k=8, preparation__num_pipeline__imputer__strategy=most_frequent, total=   6.8s\n",
      "[CV] feature_selection__k=9, preparation__num_pipeline__imputer__strategy=mean \n",
      "[CV]  feature_selection__k=9, preparation__num_pipeline__imputer__strategy=mean, total=   6.5s\n",
      "[CV] feature_selection__k=9, preparation__num_pipeline__imputer__strategy=mean \n",
      "[CV]  feature_selection__k=9, preparation__num_pipeline__imputer__strategy=mean, total=   5.4s\n",
      "[CV] feature_selection__k=9, preparation__num_pipeline__imputer__strategy=median \n",
      "[CV]  feature_selection__k=9, preparation__num_pipeline__imputer__strategy=median, total=   8.9s\n",
      "[CV] feature_selection__k=9, preparation__num_pipeline__imputer__strategy=median \n",
      "[CV]  feature_selection__k=9, preparation__num_pipeline__imputer__strategy=median, total=   7.8s\n",
      "[CV] feature_selection__k=9, preparation__num_pipeline__imputer__strategy=most_frequent \n",
      "[CV]  feature_selection__k=9, preparation__num_pipeline__imputer__strategy=most_frequent, total=  12.8s\n",
      "[CV] feature_selection__k=9, preparation__num_pipeline__imputer__strategy=most_frequent \n",
      "[CV]  feature_selection__k=9, preparation__num_pipeline__imputer__strategy=most_frequent, total=   7.5s\n",
      "[CV] feature_selection__k=10, preparation__num_pipeline__imputer__strategy=mean \n",
      "[CV]  feature_selection__k=10, preparation__num_pipeline__imputer__strategy=mean, total=   7.5s\n",
      "[CV] feature_selection__k=10, preparation__num_pipeline__imputer__strategy=mean \n",
      "[CV]  feature_selection__k=10, preparation__num_pipeline__imputer__strategy=mean, total=   6.2s\n",
      "[CV] feature_selection__k=10, preparation__num_pipeline__imputer__strategy=median \n",
      "[CV]  feature_selection__k=10, preparation__num_pipeline__imputer__strategy=median, total=   6.6s\n",
      "[CV] feature_selection__k=10, preparation__num_pipeline__imputer__strategy=median \n",
      "[CV]  feature_selection__k=10, preparation__num_pipeline__imputer__strategy=median, total=   5.8s\n",
      "[CV] feature_selection__k=10, preparation__num_pipeline__imputer__strategy=most_frequent \n",
      "[CV]  feature_selection__k=10, preparation__num_pipeline__imputer__strategy=most_frequent, total=   6.4s\n",
      "[CV] feature_selection__k=10, preparation__num_pipeline__imputer__strategy=most_frequent \n",
      "[CV]  feature_selection__k=10, preparation__num_pipeline__imputer__strategy=most_frequent, total=   7.4s\n",
      "[CV] feature_selection__k=11, preparation__num_pipeline__imputer__strategy=mean \n",
      "[CV]  feature_selection__k=11, preparation__num_pipeline__imputer__strategy=mean, total=   6.9s\n",
      "[CV] feature_selection__k=11, preparation__num_pipeline__imputer__strategy=mean \n",
      "[CV]  feature_selection__k=11, preparation__num_pipeline__imputer__strategy=mean, total=   6.6s\n",
      "[CV] feature_selection__k=11, preparation__num_pipeline__imputer__strategy=median \n",
      "[CV]  feature_selection__k=11, preparation__num_pipeline__imputer__strategy=median, total=   5.5s\n",
      "[CV] feature_selection__k=11, preparation__num_pipeline__imputer__strategy=median \n",
      "[CV]  feature_selection__k=11, preparation__num_pipeline__imputer__strategy=median, total=   5.7s\n",
      "[CV] feature_selection__k=11, preparation__num_pipeline__imputer__strategy=most_frequent \n",
      "[CV]  feature_selection__k=11, preparation__num_pipeline__imputer__strategy=most_frequent, total=   6.5s\n",
      "[CV] feature_selection__k=11, preparation__num_pipeline__imputer__strategy=most_frequent \n",
      "[CV]  feature_selection__k=11, preparation__num_pipeline__imputer__strategy=most_frequent, total=   7.4s\n",
      "[CV] feature_selection__k=12, preparation__num_pipeline__imputer__strategy=mean \n",
      "[CV]  feature_selection__k=12, preparation__num_pipeline__imputer__strategy=mean, total=   5.9s\n",
      "[CV] feature_selection__k=12, preparation__num_pipeline__imputer__strategy=mean \n",
      "[CV]  feature_selection__k=12, preparation__num_pipeline__imputer__strategy=mean, total=   5.8s\n",
      "[CV] feature_selection__k=12, preparation__num_pipeline__imputer__strategy=median \n",
      "[CV]  feature_selection__k=12, preparation__num_pipeline__imputer__strategy=median, total=   5.9s\n",
      "[CV] feature_selection__k=12, preparation__num_pipeline__imputer__strategy=median \n",
      "[CV]  feature_selection__k=12, preparation__num_pipeline__imputer__strategy=median, total=   5.7s\n",
      "[CV] feature_selection__k=12, preparation__num_pipeline__imputer__strategy=most_frequent \n",
      "[CV]  feature_selection__k=12, preparation__num_pipeline__imputer__strategy=most_frequent, total=   6.1s\n",
      "[CV] feature_selection__k=12, preparation__num_pipeline__imputer__strategy=most_frequent \n",
      "[CV]  feature_selection__k=12, preparation__num_pipeline__imputer__strategy=most_frequent, total=   6.4s\n",
      "[CV] feature_selection__k=13, preparation__num_pipeline__imputer__strategy=mean \n",
      "[CV]  feature_selection__k=13, preparation__num_pipeline__imputer__strategy=mean, total=   6.2s\n",
      "[CV] feature_selection__k=13, preparation__num_pipeline__imputer__strategy=mean \n",
      "[CV]  feature_selection__k=13, preparation__num_pipeline__imputer__strategy=mean, total=   6.0s\n",
      "[CV] feature_selection__k=13, preparation__num_pipeline__imputer__strategy=median \n",
      "[CV]  feature_selection__k=13, preparation__num_pipeline__imputer__strategy=median, total=   5.9s\n",
      "[CV] feature_selection__k=13, preparation__num_pipeline__imputer__strategy=median \n",
      "[CV]  feature_selection__k=13, preparation__num_pipeline__imputer__strategy=median, total=   6.1s\n",
      "[CV] feature_selection__k=13, preparation__num_pipeline__imputer__strategy=most_frequent \n",
      "[CV]  feature_selection__k=13, preparation__num_pipeline__imputer__strategy=most_frequent, total=   7.1s\n",
      "[CV] feature_selection__k=13, preparation__num_pipeline__imputer__strategy=most_frequent \n",
      "[CV]  feature_selection__k=13, preparation__num_pipeline__imputer__strategy=most_frequent, total=   7.0s\n",
      "[CV] feature_selection__k=14, preparation__num_pipeline__imputer__strategy=mean \n",
      "[CV]  feature_selection__k=14, preparation__num_pipeline__imputer__strategy=mean, total=   7.6s\n",
      "[CV] feature_selection__k=14, preparation__num_pipeline__imputer__strategy=mean \n",
      "[CV]  feature_selection__k=14, preparation__num_pipeline__imputer__strategy=mean, total=   6.9s\n",
      "[CV] feature_selection__k=14, preparation__num_pipeline__imputer__strategy=median \n",
      "[CV]  feature_selection__k=14, preparation__num_pipeline__imputer__strategy=median, total=   7.5s\n",
      "[CV] feature_selection__k=14, preparation__num_pipeline__imputer__strategy=median \n",
      "[CV]  feature_selection__k=14, preparation__num_pipeline__imputer__strategy=median, total=   7.9s\n",
      "[CV] feature_selection__k=14, preparation__num_pipeline__imputer__strategy=most_frequent \n",
      "[CV]  feature_selection__k=14, preparation__num_pipeline__imputer__strategy=most_frequent, total=   8.2s\n",
      "[CV] feature_selection__k=14, preparation__num_pipeline__imputer__strategy=most_frequent \n",
      "[CV]  feature_selection__k=14, preparation__num_pipeline__imputer__strategy=most_frequent, total=   9.3s\n",
      "[CV] feature_selection__k=15, preparation__num_pipeline__imputer__strategy=mean \n",
      "[CV]  feature_selection__k=15, preparation__num_pipeline__imputer__strategy=mean, total=   7.9s\n",
      "[CV] feature_selection__k=15, preparation__num_pipeline__imputer__strategy=mean \n",
      "[CV]  feature_selection__k=15, preparation__num_pipeline__imputer__strategy=mean, total=   8.0s\n",
      "[CV] feature_selection__k=15, preparation__num_pipeline__imputer__strategy=median \n",
      "[CV]  feature_selection__k=15, preparation__num_pipeline__imputer__strategy=median, total=   7.9s\n",
      "[CV] feature_selection__k=15, preparation__num_pipeline__imputer__strategy=median \n",
      "[CV]  feature_selection__k=15, preparation__num_pipeline__imputer__strategy=median, total=   8.3s\n",
      "[CV] feature_selection__k=15, preparation__num_pipeline__imputer__strategy=most_frequent \n",
      "[CV]  feature_selection__k=15, preparation__num_pipeline__imputer__strategy=most_frequent, total=   8.9s\n",
      "[CV] feature_selection__k=15, preparation__num_pipeline__imputer__strategy=most_frequent \n",
      "[CV]  feature_selection__k=15, preparation__num_pipeline__imputer__strategy=most_frequent, total=   8.9s\n",
      "[CV] feature_selection__k=16, preparation__num_pipeline__imputer__strategy=mean \n",
      "[CV]  feature_selection__k=16, preparation__num_pipeline__imputer__strategy=mean, total=   9.3s\n",
      "[CV] feature_selection__k=16, preparation__num_pipeline__imputer__strategy=mean \n",
      "[CV]  feature_selection__k=16, preparation__num_pipeline__imputer__strategy=mean, total=   8.4s\n",
      "[CV] feature_selection__k=16, preparation__num_pipeline__imputer__strategy=median \n",
      "[CV]  feature_selection__k=16, preparation__num_pipeline__imputer__strategy=median, total=   8.1s\n",
      "[CV] feature_selection__k=16, preparation__num_pipeline__imputer__strategy=median \n",
      "[CV]  feature_selection__k=16, preparation__num_pipeline__imputer__strategy=median, total=   8.3s\n",
      "[CV] feature_selection__k=16, preparation__num_pipeline__imputer__strategy=most_frequent \n",
      "[CV]  feature_selection__k=16, preparation__num_pipeline__imputer__strategy=most_frequent, total=   8.5s\n",
      "[CV] feature_selection__k=16, preparation__num_pipeline__imputer__strategy=most_frequent \n",
      "[CV]  feature_selection__k=16, preparation__num_pipeline__imputer__strategy=most_frequent, total=   8.6s\n",
      "[CV] feature_selection__k=17, preparation__num_pipeline__imputer__strategy=mean \n",
      "[CV]  feature_selection__k=17, preparation__num_pipeline__imputer__strategy=mean, total=   8.5s\n",
      "[CV] feature_selection__k=17, preparation__num_pipeline__imputer__strategy=mean \n",
      "[CV]  feature_selection__k=17, preparation__num_pipeline__imputer__strategy=mean, total=   8.4s\n",
      "[CV] feature_selection__k=17, preparation__num_pipeline__imputer__strategy=median \n",
      "[CV]  feature_selection__k=17, preparation__num_pipeline__imputer__strategy=median, total=   8.5s\n",
      "[CV] feature_selection__k=17, preparation__num_pipeline__imputer__strategy=median \n",
      "[CV]  feature_selection__k=17, preparation__num_pipeline__imputer__strategy=median, total=   8.4s\n",
      "[CV] feature_selection__k=17, preparation__num_pipeline__imputer__strategy=most_frequent \n",
      "[CV]  feature_selection__k=17, preparation__num_pipeline__imputer__strategy=most_frequent, total=   9.0s\n",
      "[CV] feature_selection__k=17, preparation__num_pipeline__imputer__strategy=most_frequent \n",
      "[CV]  feature_selection__k=17, preparation__num_pipeline__imputer__strategy=most_frequent, total=   9.5s\n"
     ]
    },
    {
     "name": "stderr",
     "output_type": "stream",
     "text": [
      "[Parallel(n_jobs=1)]: Done 102 out of 102 | elapsed: 16.0min finished\n"
     ]
    },
    {
     "data": {
      "text/plain": [
       "GridSearchCV(cv=2, error_score='raise-deprecating',\n",
       "       estimator=Pipeline(memory=None,\n",
       "     steps=[('preparation', FeatureUnion(n_jobs=None,\n",
       "       transformer_list=[('num_pipeline', Pipeline(memory=None,\n",
       "     steps=[('selector', DataFrameSelector(attribute_names=['longitude', 'latitude', 'housing_median_age', 'total_rooms', 'total_bedrooms', 'population', 'households', 'median_income', 'i... gamma=0.26497040005002437, kernel='rbf', max_iter=-1, shrinking=True,\n",
       "  tol=0.001, verbose=False))]),\n",
       "       fit_params=None, iid='warn', n_jobs=1,\n",
       "       param_grid=[{'preparation__num_pipeline__imputer__strategy': ['mean', 'median', 'most_frequent'], 'feature_selection__k': [1, 2, 3, 4, 5, 6, 7, 8, 9, 10, 11, 12, 13, 14, 15, 16, 17]}],\n",
       "       pre_dispatch='2*n_jobs', refit=True, return_train_score='warn',\n",
       "       scoring='neg_mean_squared_error', verbose=2)"
      ]
     },
     "execution_count": 63,
     "metadata": {},
     "output_type": "execute_result"
    }
   ],
   "source": [
    "param_grid = [\n",
    "        {'preparation__num_pipeline__imputer__strategy': ['mean', 'median', 'most_frequent'],\n",
    "         'feature_selection__k': list(range(1, len(feature_importances) + 1))}\n",
    "]\n",
    "\n",
    "grid_search_prep = GridSearchCV(prepare_select_and_predict_pipeline, param_grid, cv=2,\n",
    "                                scoring='neg_mean_squared_error', verbose=2, n_jobs=1)\n",
    "grid_search_prep.fit(housing, housing_labels)"
   ]
  },
  {
   "cell_type": "code",
   "execution_count": 64,
   "metadata": {},
   "outputs": [
    {
     "data": {
      "text/plain": [
       "{'max_features': 8, 'n_estimators': 30}"
      ]
     },
     "execution_count": 64,
     "metadata": {},
     "output_type": "execute_result"
    }
   ],
   "source": [
    "grid_search.best_params_"
   ]
  },
  {
   "cell_type": "code",
   "execution_count": null,
   "metadata": {},
   "outputs": [],
   "source": []
  }
 ],
 "metadata": {
  "kernelspec": {
   "display_name": "Python 3",
   "language": "python",
   "name": "python3"
  },
  "language_info": {
   "codemirror_mode": {
    "name": "ipython",
    "version": 3
   },
   "file_extension": ".py",
   "mimetype": "text/x-python",
   "name": "python",
   "nbconvert_exporter": "python",
   "pygments_lexer": "ipython3",
   "version": "3.6.6"
  }
 },
 "nbformat": 4,
 "nbformat_minor": 2
}
